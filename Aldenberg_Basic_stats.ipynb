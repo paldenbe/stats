{
 "cells": [
  {
   "cell_type": "markdown",
   "metadata": {},
   "source": [
    "## Script to calculate Basic Statistics"
   ]
  },
  {
   "cell_type": "markdown",
   "metadata": {},
   "source": [
    "### Equation for the mean:   $\\mu_x = \\sum_{i=1}^{N}\\frac{x_i}{N}$\n",
    "\n",
    "### Equation for the standard deviation:  $\\sigma_x = \\sqrt{\\sum_{i=1}^{N}\\left(x_i - \\mu \\right)^2}\\frac{1}{N-1}$\n",
    "\n",
    "\n",
    "**Instructions:**\n",
    "\n",
    "**(1) Before you write code, write an algorithm that describes the sequence of steps you will take to compute the mean and standard deviation for your samples.  The algorithm can be written in pseudocode or as an itemized list.***\n",
    "\n",
    "**(2) Use 'for' loops to help yourself compute the average and standard deviation.**\n",
    "\n",
    "**(3) Use for loops and conditional operators to count the number of samples within $1\\sigma$ of the mean.**\n",
    "\n",
    "**Note:** It is not acceptable to use the pre-programmed routines for mean and st. dev., e.g. numpy.mean()"
   ]
  },
  {
   "cell_type": "markdown",
   "metadata": {},
   "source": [
    "### Edit this box to write an algorithm for computing the mean and std. deviation.\n",
    "\n",
    "~~~\n",
    "1. bring in the proper libraries\n",
    "2. write a list of sample data\n",
    "3. use a \"for\" loop to compute the average and the standard deviation of the data\n",
    "    3a. The average will be the sum divided by the count\n",
    "    3b. The std. dev. will have to use the mean we calculated in it's equation.\n",
    "4. use a \"for\" loop and a conditional operator to count the number of samples within  1𝜎\n",
    "  of the mean.\n",
    "  4a. Find the range of the standard deviation\n",
    "  4b. make a \"for\" loop to count the number of values in the list that fall within the range\n",
    "  4c. calculate the percentage of the list that falls within the standard deviation\n",
    "\n",
    "\n",
    "\n",
    "\n",
    "\n",
    "~~~"
   ]
  },
  {
   "cell_type": "markdown",
   "metadata": {},
   "source": [
    "### Write your code using instructions in the cells below."
   ]
  },
  {
   "cell_type": "code",
   "execution_count": 1,
   "metadata": {},
   "outputs": [],
   "source": [
    "# Put your Header information here.  Name, creation date, version, etc.\n"
   ]
  },
  {
   "cell_type": "code",
   "execution_count": 3,
   "metadata": {},
   "outputs": [],
   "source": [
    "# Import the matplotlib module here.  No other modules should be used.\n",
    "\n",
    "import matplotlib.pyplot as mp\n"
   ]
  },
  {
   "cell_type": "code",
   "execution_count": 4,
   "metadata": {},
   "outputs": [],
   "source": [
    "# Create a list variable that contains at least 25 elements.  You can create this list any number of ways.  \n",
    "# This will be your sample.\n",
    "list = [1, 2, 3, 4, 5, 6, 7, 8, 9, 10, 11, 12, 13, 14, 15, 16, 17, 18, 19, 20, 21, 22, 23, 24, 25]"
   ]
  },
  {
   "cell_type": "code",
   "execution_count": 5,
   "metadata": {
    "scrolled": true
   },
   "outputs": [
    {
     "name": "stdout",
     "output_type": "stream",
     "text": [
      "25\n"
     ]
    }
   ],
   "source": [
    "# Pretend you do not know how long x is; compute it's length, N, without using functions or modules.\n",
    "x = 0\n",
    "for N in list:\n",
    "    x += 1     # x = x + 1\n",
    "print(x)"
   ]
  },
  {
   "cell_type": "code",
   "execution_count": 6,
   "metadata": {},
   "outputs": [
    {
     "name": "stdout",
     "output_type": "stream",
     "text": [
      "13.0\n"
     ]
    }
   ],
   "source": [
    "# Compute the mean of the elements in list x.\n",
    "mu = x/N\n",
    "x = 0\n",
    "for N in list:\n",
    "    x += N      # For every number in the list, calculate x = x + N. Ex. 1 = 0 + 1... 3 = 1 + 2... 6 = 3 + 3... 10 = 6 + 4\n",
    "print(x/N)"
   ]
  },
  {
   "cell_type": "code",
   "execution_count": 7,
   "metadata": {},
   "outputs": [
    {
     "name": "stdout",
     "output_type": "stream",
     "text": [
      "7.211102550927978\n"
     ]
    }
   ],
   "source": [
    "# Compute the std deviation, using the mean and the elements in list x.\n",
    "list = [1, 2, 3, 4, 5, 6, 7, 8, 9, 10, 11, 12, 13, 14, 15, 16, 17, 18, 19, 20, 21, 22, 23, 24, 25]\n",
    "\n",
    "x = 0\n",
    "for N in list:\n",
    "    x += N\n",
    "mu = x/N\n",
    "\n",
    "variance = sum((xi - mu) ** 2 for xi in list) / len(list)\n",
    "std_dev = variance ** 0.5\n",
    "\n",
    "print(std_dev)"
   ]
  },
  {
   "cell_type": "code",
   "execution_count": 8,
   "metadata": {},
   "outputs": [
    {
     "name": "stdout",
     "output_type": "stream",
     "text": [
      "13.0\n",
      "7.211102550927978\n"
     ]
    }
   ],
   "source": [
    "# Use the 'print' command to report the values of average (mu) and std. dev. (sigma).\n",
    "\n",
    "print(mu)\n",
    "print(std_dev)\n"
   ]
  },
  {
   "cell_type": "code",
   "execution_count": 9,
   "metadata": {},
   "outputs": [
    {
     "name": "stdout",
     "output_type": "stream",
     "text": [
      "The low range is 5.788897449072022\n",
      "The high range is 20.21110255092798\n",
      "There are 15 values within the standard deviation\n",
      "The distrubution is 0.6\n",
      "No, this list is not normally distributed because the less than 68% of the values fall within the standard deviation.\n"
     ]
    }
   ],
   "source": [
    "# Count the number of values that are within +/- 1 std. deviation of the mean.  \n",
    "# A normal distribution will have approx. 68% of the values within this range.  \n",
    "# Based on this criteria is the list normally distributed?\n",
    "\n",
    "#Below calculates the range of the standard deviation from the mean\n",
    "low_range = mu - std_dev\n",
    "print('The low range is', low_range)\n",
    "high_range = mu + std_dev\n",
    "print('The high range is', high_range)\n",
    "\n",
    "#The range is 5.79 to 20.21\n",
    "\n",
    "within_std_dev = sum(low_range < x < high_range for x in list)\n",
    "print('There are', within_std_dev, 'values within the standard deviation')\n",
    "\n",
    "distribution = within_std_dev/len(list)\n",
    "print('The distrubution is', distribution)\n",
    "\n",
    "print('No, this list is not normally distributed because the less than 68% of the values fall within the standard deviation.')"
   ]
  },
  {
   "cell_type": "code",
   "execution_count": 10,
   "metadata": {},
   "outputs": [
    {
     "name": "stdout",
     "output_type": "stream",
     "text": [
      "This list is not normally distributed\n"
     ]
    }
   ],
   "source": [
    "# Use print() and if statements to report a message about whether the data is normally distributed.\n",
    "\n",
    "if distribution == 0.68:\n",
    "    print ('This list is normally distributed')\n",
    "elif distribution < 0.68:\n",
    "    print('This list is not normally distributed')\n",
    "elif distribution > 0.68:\n",
    "    print('This list is not normally distributed')\n",
    "    "
   ]
  },
  {
   "cell_type": "code",
   "execution_count": 19,
   "metadata": {},
   "outputs": [
    {
     "data": {
      "image/png": "[encoded data removed]",
      "text/plain": [
       "<Figure size 640x480 with 1 Axes>"
      ]
     },
     "metadata": {},
     "output_type": "display_data"
    }
   ],
   "source": [
    "### Use Matplotlb.pyplot to make a histogram of x.\n",
    "\n",
    "x = list\n",
    "\n",
    "mp.title('Histogram of List Data')\n",
    "mp.xlabel('Value')\n",
    "mp.ylabel('Frequency')\n",
    "mp.hist(x, bins = [0, 10, 20, 30])\n",
    "mp.show()\n"
   ]
  },
  {
   "cell_type": "markdown",
   "metadata": {
    "collapsed": true,
    "jupyter": {
     "outputs_hidden": true
    }
   },
   "source": [
    "### OCG 593 students, look up an equation for Skewness and write code to compute the skewness. \n",
    "#### Compute the skewness and report whether the sample is normally distributed."
   ]
  },
  {
   "cell_type": "code",
   "execution_count": 12,
   "metadata": {},
   "outputs": [
    {
     "name": "stdout",
     "output_type": "stream",
     "text": [
      "The skewness is 0.0 , so the data is normally distributed.\n"
     ]
    }
   ],
   "source": [
    "#Skew = 3 * (Mean – Median) / Standard Deviation.\n",
    "\n",
    "median =  list[len(list) // 2] #using the list data, divide the length of the list by 2. \"//\" is floor division (rounds to nearest whole number)\n",
    "\n",
    "skewness = 3 * (mu - median) / std_dev\n",
    "\n",
    "print('The skewness is', skewness,', so the data is normally distributed.')"
   ]
  },
  {
   "cell_type": "code",
   "execution_count": null,
   "metadata": {},
   "outputs": [],
   "source": []
  }
 ],
 "metadata": {
  "kernelspec": {
   "display_name": "Python 3 (ipykernel)",
   "language": "python",
   "name": "python3"
  },
  "language_info": {
   "codemirror_mode": {
    "name": "ipython",
    "version": 3
   },
   "file_extension": ".py",
   "mimetype": "text/x-python",
   "name": "python",
   "nbconvert_exporter": "python",
   "pygments_lexer": "ipython3",
   "version": "3.11.4"
  }
 },
 "nbformat": 4,
 "nbformat_minor": 4
}
